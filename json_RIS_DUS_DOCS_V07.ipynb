{
 "cells": [
  {
   "cell_type": "markdown",
   "metadata": {},
   "source": [
    "# 0) Versioning"
   ]
  },
  {
   "cell_type": "markdown",
   "metadata": {},
   "source": [
    "V07: Update 2025 (due to old pandas code with depreciated methods):\n",
    "- standard pd.json_normalize()-method instead of previous seperate pd.io.json\n",
    "- replaced depreciated APPEND()-method with CONCAT()-method to build outpout dataframes\n",
    "- Using openpyxl writer insted of depreciated xls file writer too"
   ]
  },
  {
   "cell_type": "markdown",
   "metadata": {},
   "source": [
    "V05: Cycle-loop for JSON requests to RIS modified to retrieve ALL documents (BREAK only if empty data)"
   ]
  },
  {
   "cell_type": "markdown",
   "metadata": {},
   "source": [
    "### Explanations on general data structure to be scraped:"
   ]
  },
  {
   "cell_type": "markdown",
   "metadata": {},
   "source": [
    "We scrape info from the Ratsinformationsystem (RIS), more precisely the individual meetings of the different municipal organs, bodies and institutions.  \n",
    "One page conatains the data of the 10 most recent meetings.  \n",
    "The pages hold a nested information structure.  \n",
    "Level1 contains meta-info on the meeting and links to some basic information  \n",
    "Level2 has 2 interesting elements:  \n",
    "(1) the links to \"aux-files\", aka the PDF-documents associated with the meeting and  \n",
    "(2) the agendaItems: a detailed enumerations of subjects treated durcing the meeting  \n",
    "  \n",
    "As a result of the entire code, we want to produce 2 dataframes:  \n",
    "(1) Containing a list with links to all \"aux-files\" plus the associated meta-info of the meeting  \n",
    "(2) Containing all agenda items of the meeting, also with the associated meta-info included"
   ]
  },
  {
   "cell_type": "markdown",
   "metadata": {},
   "source": [
    "# 1) Package Import"
   ]
  },
  {
   "cell_type": "code",
   "execution_count": 1,
   "metadata": {},
   "outputs": [],
   "source": [
    "import pandas as pd\n",
    "import requests\n",
    "import json"
   ]
  },
  {
   "cell_type": "code",
   "execution_count": 2,
   "metadata": {},
   "outputs": [],
   "source": [
    "# from pandas.io.json import json_normalize"
   ]
  },
  {
   "cell_type": "code",
   "execution_count": 3,
   "metadata": {},
   "outputs": [],
   "source": [
    "import math"
   ]
  },
  {
   "cell_type": "code",
   "execution_count": null,
   "metadata": {},
   "outputs": [],
   "source": []
  },
  {
   "cell_type": "markdown",
   "metadata": {},
   "source": [
    "# 2) Variable declartations (global)"
   ]
  },
  {
   "cell_type": "code",
   "execution_count": 4,
   "metadata": {},
   "outputs": [],
   "source": [
    "# number of pages scraped from the meeting-URL of the RIS\n",
    "# (json request interface set to start with youngest entry and returning the data\n",
    "#  of 10 meetings per page).... so e.g. 3 as value here is that the overall data\n",
    "#  returned equals travelleing 30 meeting back in time from today)\n",
    "##########################\n",
    "v_requested_pages_no = 20\n",
    "##########################\n",
    "inc_p_no = 1\n",
    "##########################"
   ]
  },
  {
   "cell_type": "code",
   "execution_count": 5,
   "metadata": {},
   "outputs": [],
   "source": [
    "s_ris_url_meetings_1 = \"http://ris-oparl.itk-rheinland.de/Oparl/bodies/0015/meetings?page=1\""
   ]
  },
  {
   "cell_type": "code",
   "execution_count": 6,
   "metadata": {},
   "outputs": [],
   "source": [
    "##############################################################################################\n",
    "s_ris_url_meetings_base = \"http://ris-oparl.itk-rheinland.de/Oparl/bodies/0015/meetings?page=\"\n",
    "##############################################################################################"
   ]
  },
  {
   "cell_type": "markdown",
   "metadata": {},
   "source": [
    "# 3) Definitions"
   ]
  },
  {
   "cell_type": "markdown",
   "metadata": {},
   "source": [
    "## 3a) Class definitions"
   ]
  },
  {
   "cell_type": "code",
   "execution_count": null,
   "metadata": {},
   "outputs": [],
   "source": []
  },
  {
   "cell_type": "markdown",
   "metadata": {},
   "source": [
    "## 3b) Function Definitions"
   ]
  },
  {
   "cell_type": "code",
   "execution_count": null,
   "metadata": {},
   "outputs": [],
   "source": []
  },
  {
   "cell_type": "code",
   "execution_count": null,
   "metadata": {},
   "outputs": [],
   "source": []
  },
  {
   "cell_type": "code",
   "execution_count": null,
   "metadata": {},
   "outputs": [],
   "source": []
  },
  {
   "cell_type": "code",
   "execution_count": null,
   "metadata": {},
   "outputs": [],
   "source": []
  },
  {
   "cell_type": "markdown",
   "metadata": {},
   "source": [
    "# 4) Actual Program"
   ]
  },
  {
   "cell_type": "markdown",
   "metadata": {},
   "source": [
    "## 4a) Data scraping from RIS: main loop reading the initial document pagees"
   ]
  },
  {
   "cell_type": "code",
   "execution_count": 7,
   "metadata": {},
   "outputs": [],
   "source": [
    "# create empty list to accomodate ONE data (dictionaries) scraped from every RIS-page,\n",
    "# not the meta-info (paging etc.)\n",
    "# This list can be looped over after the scraping for further data manipulation\n",
    "\n",
    "l_pages_data = ['void_1st_element']"
   ]
  },
  {
   "cell_type": "code",
   "execution_count": null,
   "metadata": {},
   "outputs": [],
   "source": []
  },
  {
   "cell_type": "code",
   "execution_count": 8,
   "metadata": {},
   "outputs": [],
   "source": [
    "while True:\n",
    "    v_request_path = s_ris_url_meetings_base+str(inc_p_no)\n",
    "    # print(v_request_path)\n",
    "\n",
    "    # retrieve entire page content from RIS\n",
    "    response = requests.get(v_request_path)\n",
    "\n",
    "    # transform page info to dictionary\n",
    "    d_response_json = response.json()\n",
    "    \n",
    "    # get only data payload as list from json response dictionary\n",
    "    l_response_data = d_response_json.get('data')\n",
    "\n",
    "################### ###########################################\n",
    "    # if not l_response_data:    # BREAK loop if empty data payload >> no more pages\n",
    "                                # 'not list' checks for empty list !!!!\n",
    "                                # ALTERNATIVE: break for given value of inc_p_no >> control via no. of pages             \n",
    "    if inc_p_no > 65:\n",
    "        break\n",
    "################################################################    \n",
    "    else:\n",
    "        ######################################################################\n",
    "        # append to list ONLY the \"data\" payload of the page, represented as\n",
    "        # one dictionary containing itself a nested dictionary structure\n",
    "        # \n",
    "        # (the encoding of the pages payload data in the \"data\"-dictionary item\n",
    "        # had to be identified via trial&error....)\n",
    "        # https://jsoneditoronline.org was extremely helpful in this, allowing to \n",
    "        # visually explore the nested json structure of the original page\n",
    "        #\n",
    "        l_pages_data.append(l_response_data)\n",
    "        ######################################################################\n",
    "        \n",
    "        inc_p_no += 1  # increment page counter so as to receive next page in next cycle loop"
   ]
  },
  {
   "cell_type": "code",
   "execution_count": 9,
   "metadata": {},
   "outputs": [
    {
     "name": "stdout",
     "output_type": "stream",
     "text": [
      "66\n",
      "65\n"
     ]
    }
   ],
   "source": [
    "print(len(l_pages_data))\n",
    "l_pages_data = l_pages_data[1:len(l_pages_data)] # eliminate first void \"initialization\"-list-element\n",
    "print(len(l_pages_data))"
   ]
  },
  {
   "cell_type": "code",
   "execution_count": 10,
   "metadata": {},
   "outputs": [
    {
     "data": {
      "text/plain": [
       "10"
      ]
     },
     "execution_count": 10,
     "metadata": {},
     "output_type": "execute_result"
    }
   ],
   "source": [
    "len(l_pages_data[0]) # number of list elements for a given page"
   ]
  },
  {
   "cell_type": "code",
   "execution_count": 11,
   "metadata": {},
   "outputs": [
    {
     "data": {
      "text/plain": [
       "dict"
      ]
     },
     "execution_count": 11,
     "metadata": {},
     "output_type": "execute_result"
    }
   ],
   "source": [
    "type(l_pages_data[2][9]) # type of a given list element in this nested structure"
   ]
  },
  {
   "cell_type": "code",
   "execution_count": 12,
   "metadata": {},
   "outputs": [],
   "source": [
    "# so now we have a list with one list element per scraped page\n",
    "# and 10 dictionaries per list element, representing the payload data for \n",
    "# each of the 10 meetings per page (apparently a server default value)"
   ]
  },
  {
   "cell_type": "code",
   "execution_count": 13,
   "metadata": {},
   "outputs": [],
   "source": [
    "# Example how to iterate over the result list and retrieve a specific dictionary value\n",
    "# (in this case, the meeting-name)\n",
    "# for p in range(v_requested_pages_no):\n",
    "#     for m in range(10):\n",
    "#        print(l_pages_data[p][m].get('name'))"
   ]
  },
  {
   "cell_type": "markdown",
   "metadata": {},
   "source": [
    "## 4b) Create df for 1st info level for all scraped meeting pages: the meeting referentials"
   ]
  },
  {
   "cell_type": "code",
   "execution_count": 14,
   "metadata": {},
   "outputs": [],
   "source": [
    "# initiate empty dataframe to accomodate the top level info meeting (level 1)\n",
    "df_meetings = pd.DataFrame()"
   ]
  },
  {
   "cell_type": "code",
   "execution_count": 16,
   "metadata": {},
   "outputs": [],
   "source": [
    "# DEPRECIATED APPEND method !\n",
    "#for p in range(len(l_pages_data)):            # iterate over number of retrieved pages\n",
    "#    for m in range(len(l_pages_data[p])):     # iterate over no. of meeting enties on given page\n",
    "#        # print(l_pages_data[p][m].get('name'))\n",
    "#        # Creating df by appending row for \"json_normalized\" row for every meeting on every page\n",
    "#        df_meetings = df_meetings.append(pd.json_normalize(l_pages_data[p][m]), ignore_index = True, sort = False)"
   ]
  },
  {
   "cell_type": "code",
   "execution_count": 17,
   "metadata": {},
   "outputs": [],
   "source": [
    "df_meetings = pd.concat([pd.json_normalize(meeting) \n",
    "                        for page in l_pages_data \n",
    "                        for meeting in page], \n",
    "                       ignore_index=True)"
   ]
  },
  {
   "cell_type": "code",
   "execution_count": 18,
   "metadata": {},
   "outputs": [
    {
     "data": {
      "text/html": [
       "<div>\n",
       "<style scoped>\n",
       "    .dataframe tbody tr th:only-of-type {\n",
       "        vertical-align: middle;\n",
       "    }\n",
       "\n",
       "    .dataframe tbody tr th {\n",
       "        vertical-align: top;\n",
       "    }\n",
       "\n",
       "    .dataframe thead th {\n",
       "        text-align: right;\n",
       "    }\n",
       "</style>\n",
       "<table border=\"1\" class=\"dataframe\">\n",
       "  <thead>\n",
       "    <tr style=\"text-align: right;\">\n",
       "      <th></th>\n",
       "      <th>id</th>\n",
       "      <th>type</th>\n",
       "      <th>name</th>\n",
       "      <th>start</th>\n",
       "      <th>end</th>\n",
       "      <th>organization</th>\n",
       "      <th>auxiliaryFile</th>\n",
       "      <th>created</th>\n",
       "      <th>modified</th>\n",
       "      <th>location.id</th>\n",
       "      <th>...</th>\n",
       "      <th>resultsProtocol.id</th>\n",
       "      <th>resultsProtocol.type</th>\n",
       "      <th>resultsProtocol.name</th>\n",
       "      <th>resultsProtocol.fileName</th>\n",
       "      <th>resultsProtocol.mimeType</th>\n",
       "      <th>resultsProtocol.date</th>\n",
       "      <th>resultsProtocol.accessUrl</th>\n",
       "      <th>resultsProtocol.downloadUrl</th>\n",
       "      <th>resultsProtocol.created</th>\n",
       "      <th>resultsProtocol.modified</th>\n",
       "    </tr>\n",
       "  </thead>\n",
       "  <tbody>\n",
       "    <tr>\n",
       "      <th>0</th>\n",
       "      <td>http://ris-oparl.itk-rheinland.de/Oparl/bodies...</td>\n",
       "      <td>https://schema.oparl.org/1.1/Meeting</td>\n",
       "      <td>Rechnungsprüfungsausschuss</td>\n",
       "      <td>2025-01-28T15:00:00+01:00</td>\n",
       "      <td>2025-01-28T00:00:00+01:00</td>\n",
       "      <td>[http://ris-oparl.itk-rheinland.de/Oparl/bodie...</td>\n",
       "      <td>[{'id': 'http://ris-oparl.itk-rheinland.de/Opa...</td>\n",
       "      <td>2024-12-05T09:10:25+01:00</td>\n",
       "      <td>2025-01-20T05:54:17+01:00</td>\n",
       "      <td>http://ris-oparl.itk-rheinland.de/Oparl/bodies...</td>\n",
       "      <td>...</td>\n",
       "      <td>NaN</td>\n",
       "      <td>NaN</td>\n",
       "      <td>NaN</td>\n",
       "      <td>NaN</td>\n",
       "      <td>NaN</td>\n",
       "      <td>NaN</td>\n",
       "      <td>NaN</td>\n",
       "      <td>NaN</td>\n",
       "      <td>NaN</td>\n",
       "      <td>NaN</td>\n",
       "    </tr>\n",
       "    <tr>\n",
       "      <th>1</th>\n",
       "      <td>http://ris-oparl.itk-rheinland.de/Oparl/bodies...</td>\n",
       "      <td>https://schema.oparl.org/1.1/Meeting</td>\n",
       "      <td>Ordnungs- und Verkehrsausschuss</td>\n",
       "      <td>2025-01-15T16:00:00+01:00</td>\n",
       "      <td>2025-01-15T00:00:00+01:00</td>\n",
       "      <td>[http://ris-oparl.itk-rheinland.de/Oparl/bodie...</td>\n",
       "      <td>[{'id': 'http://ris-oparl.itk-rheinland.de/Opa...</td>\n",
       "      <td>2024-12-02T10:46:02+01:00</td>\n",
       "      <td>2025-01-16T12:05:02+01:00</td>\n",
       "      <td>http://ris-oparl.itk-rheinland.de/Oparl/bodies...</td>\n",
       "      <td>...</td>\n",
       "      <td>NaN</td>\n",
       "      <td>NaN</td>\n",
       "      <td>NaN</td>\n",
       "      <td>NaN</td>\n",
       "      <td>NaN</td>\n",
       "      <td>NaN</td>\n",
       "      <td>NaN</td>\n",
       "      <td>NaN</td>\n",
       "      <td>NaN</td>\n",
       "      <td>NaN</td>\n",
       "    </tr>\n",
       "  </tbody>\n",
       "</table>\n",
       "<p>2 rows × 40 columns</p>\n",
       "</div>"
      ],
      "text/plain": [
       "                                                  id  \\\n",
       "0  http://ris-oparl.itk-rheinland.de/Oparl/bodies...   \n",
       "1  http://ris-oparl.itk-rheinland.de/Oparl/bodies...   \n",
       "\n",
       "                                   type                             name  \\\n",
       "0  https://schema.oparl.org/1.1/Meeting       Rechnungsprüfungsausschuss   \n",
       "1  https://schema.oparl.org/1.1/Meeting  Ordnungs- und Verkehrsausschuss   \n",
       "\n",
       "                       start                        end  \\\n",
       "0  2025-01-28T15:00:00+01:00  2025-01-28T00:00:00+01:00   \n",
       "1  2025-01-15T16:00:00+01:00  2025-01-15T00:00:00+01:00   \n",
       "\n",
       "                                        organization  \\\n",
       "0  [http://ris-oparl.itk-rheinland.de/Oparl/bodie...   \n",
       "1  [http://ris-oparl.itk-rheinland.de/Oparl/bodie...   \n",
       "\n",
       "                                       auxiliaryFile  \\\n",
       "0  [{'id': 'http://ris-oparl.itk-rheinland.de/Opa...   \n",
       "1  [{'id': 'http://ris-oparl.itk-rheinland.de/Opa...   \n",
       "\n",
       "                     created                   modified  \\\n",
       "0  2024-12-05T09:10:25+01:00  2025-01-20T05:54:17+01:00   \n",
       "1  2024-12-02T10:46:02+01:00  2025-01-16T12:05:02+01:00   \n",
       "\n",
       "                                         location.id  ... resultsProtocol.id  \\\n",
       "0  http://ris-oparl.itk-rheinland.de/Oparl/bodies...  ...                NaN   \n",
       "1  http://ris-oparl.itk-rheinland.de/Oparl/bodies...  ...                NaN   \n",
       "\n",
       "  resultsProtocol.type resultsProtocol.name resultsProtocol.fileName  \\\n",
       "0                  NaN                  NaN                      NaN   \n",
       "1                  NaN                  NaN                      NaN   \n",
       "\n",
       "  resultsProtocol.mimeType resultsProtocol.date resultsProtocol.accessUrl  \\\n",
       "0                      NaN                  NaN                       NaN   \n",
       "1                      NaN                  NaN                       NaN   \n",
       "\n",
       "  resultsProtocol.downloadUrl resultsProtocol.created resultsProtocol.modified  \n",
       "0                         NaN                     NaN                      NaN  \n",
       "1                         NaN                     NaN                      NaN  \n",
       "\n",
       "[2 rows x 40 columns]"
      ]
     },
     "execution_count": 18,
     "metadata": {},
     "output_type": "execute_result"
    }
   ],
   "source": [
    "df_meetings.head(2)"
   ]
  },
  {
   "cell_type": "code",
   "execution_count": 19,
   "metadata": {},
   "outputs": [],
   "source": [
    "# df_meetings.columns.values # only needed when defining column name to be eliminated"
   ]
  },
  {
   "cell_type": "code",
   "execution_count": 20,
   "metadata": {},
   "outputs": [],
   "source": [
    "# ...now starting to elimante the unneeded columns of this \"meeting reference df\":\n",
    "\n",
    "# Define columns from df that are not needed in context\n",
    "df_col_elim = (['agendaItem', 'auxiliaryFile', 'created', 'end', 'modified',\n",
    "'participant','verbatimProtocol.accessUrl', 'verbatimProtocol.created',\n",
    "'verbatimProtocol.fileName', \n",
    "'verbatimProtocol.mimeType', 'verbatimProtocol.modified',\n",
    "'verbatimProtocol.type',\n",
    "'resultsProtocol.accessUrl', 'resultsProtocol.created',\n",
    "'resultsProtocol.fileName', 'resultsProtocol.type',\n",
    "'resultsProtocol.mimeType', 'resultsProtocol.modified', 'resultsProtocol.date',\n",
    "'resultsProtocol.id', 'resultsProtocol.name', 'resultsProtocol.downloadUrl'])\n",
    "\n",
    "# Deduce list of columns that have to be maintained from this elemination list\n",
    "l_col_keep = list(set(df_meetings.columns.values.tolist()) - set(df_col_elim))\n",
    "\n",
    "# list can be arbitrary in sequence, so sorting fixes the issue and produces\n",
    "# coherent output, with alphabetically sorted column names:\n",
    "l_col_keep.sort()\n",
    "\n",
    "# create data frames reduced to the columns that are really needed\n",
    "df_meetings_2 = df_meetings[l_col_keep]\n"
   ]
  },
  {
   "cell_type": "code",
   "execution_count": 21,
   "metadata": {},
   "outputs": [
    {
     "data": {
      "text/html": [
       "<div>\n",
       "<style scoped>\n",
       "    .dataframe tbody tr th:only-of-type {\n",
       "        vertical-align: middle;\n",
       "    }\n",
       "\n",
       "    .dataframe tbody tr th {\n",
       "        vertical-align: top;\n",
       "    }\n",
       "\n",
       "    .dataframe thead th {\n",
       "        text-align: right;\n",
       "    }\n",
       "</style>\n",
       "<table border=\"1\" class=\"dataframe\">\n",
       "  <thead>\n",
       "    <tr style=\"text-align: right;\">\n",
       "      <th></th>\n",
       "      <th>id</th>\n",
       "      <th>location.created</th>\n",
       "      <th>location.id</th>\n",
       "      <th>location.locality</th>\n",
       "      <th>location.modified</th>\n",
       "      <th>location.postalCode</th>\n",
       "      <th>location.room</th>\n",
       "      <th>location.streetAddress</th>\n",
       "      <th>location.subLocality</th>\n",
       "      <th>location.type</th>\n",
       "      <th>name</th>\n",
       "      <th>organization</th>\n",
       "      <th>start</th>\n",
       "      <th>type</th>\n",
       "      <th>verbatimProtocol.date</th>\n",
       "      <th>verbatimProtocol.downloadUrl</th>\n",
       "      <th>verbatimProtocol.id</th>\n",
       "      <th>verbatimProtocol.name</th>\n",
       "    </tr>\n",
       "  </thead>\n",
       "  <tbody>\n",
       "    <tr>\n",
       "      <th>0</th>\n",
       "      <td>http://ris-oparl.itk-rheinland.de/Oparl/bodies...</td>\n",
       "      <td>2019-03-26T08:42:23+01:00</td>\n",
       "      <td>http://ris-oparl.itk-rheinland.de/Oparl/bodies...</td>\n",
       "      <td>Düsseldorf</td>\n",
       "      <td>2019-09-04T01:50:25+02:00</td>\n",
       "      <td>40213</td>\n",
       "      <td>Rathaus - Plenarsaal</td>\n",
       "      <td>Marktplatz 2</td>\n",
       "      <td></td>\n",
       "      <td>https://schema.oparl.org/1.1/Location</td>\n",
       "      <td>Rechnungsprüfungsausschuss</td>\n",
       "      <td>[http://ris-oparl.itk-rheinland.de/Oparl/bodie...</td>\n",
       "      <td>2025-01-28T15:00:00+01:00</td>\n",
       "      <td>https://schema.oparl.org/1.1/Meeting</td>\n",
       "      <td>NaN</td>\n",
       "      <td>NaN</td>\n",
       "      <td>NaN</td>\n",
       "      <td>NaN</td>\n",
       "    </tr>\n",
       "    <tr>\n",
       "      <th>1</th>\n",
       "      <td>http://ris-oparl.itk-rheinland.de/Oparl/bodies...</td>\n",
       "      <td>2019-03-26T08:42:23+01:00</td>\n",
       "      <td>http://ris-oparl.itk-rheinland.de/Oparl/bodies...</td>\n",
       "      <td>Düsseldorf</td>\n",
       "      <td>2019-09-04T01:50:25+02:00</td>\n",
       "      <td>40213</td>\n",
       "      <td>Rathaus - Plenarsaal</td>\n",
       "      <td>Marktplatz 2</td>\n",
       "      <td></td>\n",
       "      <td>https://schema.oparl.org/1.1/Location</td>\n",
       "      <td>Ordnungs- und Verkehrsausschuss</td>\n",
       "      <td>[http://ris-oparl.itk-rheinland.de/Oparl/bodie...</td>\n",
       "      <td>2025-01-15T16:00:00+01:00</td>\n",
       "      <td>https://schema.oparl.org/1.1/Meeting</td>\n",
       "      <td>2025-01-07</td>\n",
       "      <td>http://ris-oparl.itk-rheinland.de/Oparl/bodies...</td>\n",
       "      <td>http://ris-oparl.itk-rheinland.de/Oparl/bodies...</td>\n",
       "      <td>1. NachtragsTO</td>\n",
       "    </tr>\n",
       "  </tbody>\n",
       "</table>\n",
       "</div>"
      ],
      "text/plain": [
       "                                                  id  \\\n",
       "0  http://ris-oparl.itk-rheinland.de/Oparl/bodies...   \n",
       "1  http://ris-oparl.itk-rheinland.de/Oparl/bodies...   \n",
       "\n",
       "            location.created  \\\n",
       "0  2019-03-26T08:42:23+01:00   \n",
       "1  2019-03-26T08:42:23+01:00   \n",
       "\n",
       "                                         location.id location.locality  \\\n",
       "0  http://ris-oparl.itk-rheinland.de/Oparl/bodies...        Düsseldorf   \n",
       "1  http://ris-oparl.itk-rheinland.de/Oparl/bodies...        Düsseldorf   \n",
       "\n",
       "           location.modified location.postalCode         location.room  \\\n",
       "0  2019-09-04T01:50:25+02:00               40213  Rathaus - Plenarsaal   \n",
       "1  2019-09-04T01:50:25+02:00               40213  Rathaus - Plenarsaal   \n",
       "\n",
       "  location.streetAddress location.subLocality  \\\n",
       "0           Marktplatz 2                        \n",
       "1           Marktplatz 2                        \n",
       "\n",
       "                           location.type                             name  \\\n",
       "0  https://schema.oparl.org/1.1/Location       Rechnungsprüfungsausschuss   \n",
       "1  https://schema.oparl.org/1.1/Location  Ordnungs- und Verkehrsausschuss   \n",
       "\n",
       "                                        organization  \\\n",
       "0  [http://ris-oparl.itk-rheinland.de/Oparl/bodie...   \n",
       "1  [http://ris-oparl.itk-rheinland.de/Oparl/bodie...   \n",
       "\n",
       "                       start                                  type  \\\n",
       "0  2025-01-28T15:00:00+01:00  https://schema.oparl.org/1.1/Meeting   \n",
       "1  2025-01-15T16:00:00+01:00  https://schema.oparl.org/1.1/Meeting   \n",
       "\n",
       "  verbatimProtocol.date                       verbatimProtocol.downloadUrl  \\\n",
       "0                   NaN                                                NaN   \n",
       "1            2025-01-07  http://ris-oparl.itk-rheinland.de/Oparl/bodies...   \n",
       "\n",
       "                                 verbatimProtocol.id verbatimProtocol.name  \n",
       "0                                                NaN                   NaN  \n",
       "1  http://ris-oparl.itk-rheinland.de/Oparl/bodies...        1. NachtragsTO  "
      ]
     },
     "execution_count": 21,
     "metadata": {},
     "output_type": "execute_result"
    }
   ],
   "source": [
    "df_meetings_2.head(2)"
   ]
  },
  {
   "cell_type": "code",
   "execution_count": 22,
   "metadata": {},
   "outputs": [
    {
     "data": {
      "text/plain": [
       "array(['id', 'location.created', 'location.id', 'location.locality',\n",
       "       'location.modified', 'location.postalCode', 'location.room',\n",
       "       'location.streetAddress', 'location.subLocality', 'location.type',\n",
       "       'name', 'organization', 'start', 'type', 'verbatimProtocol.date',\n",
       "       'verbatimProtocol.downloadUrl', 'verbatimProtocol.id',\n",
       "       'verbatimProtocol.name'], dtype=object)"
      ]
     },
     "execution_count": 22,
     "metadata": {},
     "output_type": "execute_result"
    }
   ],
   "source": [
    "df_meetings_2.columns.values"
   ]
  },
  {
   "cell_type": "code",
   "execution_count": 31,
   "metadata": {},
   "outputs": [
    {
     "data": {
      "text/plain": [
       "{'id': 'http://ris-oparl.itk-rheinland.de/Oparl/bodies/0015/meetings/28023',\n",
       " 'type': 'https://schema.oparl.org/1.1/Meeting',\n",
       " 'name': 'Rechnungsprüfungsausschuss',\n",
       " 'start': '2025-01-28T15:00:00+01:00',\n",
       " 'end': '2025-01-28T00:00:00+01:00',\n",
       " 'location': {'id': 'http://ris-oparl.itk-rheinland.de/Oparl/bodies/0015/locations/rn/200003',\n",
       "  'type': 'https://schema.oparl.org/1.1/Location',\n",
       "  'streetAddress': 'Marktplatz 2',\n",
       "  'room': 'Rathaus - Plenarsaal',\n",
       "  'postalCode': '40213',\n",
       "  'subLocality': '',\n",
       "  'locality': 'Düsseldorf',\n",
       "  'created': '2019-03-26T08:42:23+01:00',\n",
       "  'modified': '2019-09-04T01:50:25+02:00'},\n",
       " 'organization': ['http://ris-oparl.itk-rheinland.de/Oparl/bodies/0015/organizations/gr/27'],\n",
       " 'auxiliaryFile': [{'id': 'http://ris-oparl.itk-rheinland.de/Oparl/bodies/0015/files/541219',\n",
       "   'type': 'https://schema.oparl.org/1.1/File',\n",
       "   'name': 'Einladung',\n",
       "   'fileName': '00541219.pdf',\n",
       "   'mimeType': 'application/pdf',\n",
       "   'date': '2025-01-14',\n",
       "   'accessUrl': 'http://ris-oparl.itk-rheinland.de/Oparl/bodies/0015/downloadfiles/a/00541219.pdf',\n",
       "   'downloadUrl': 'http://ris-oparl.itk-rheinland.de/Oparl/bodies/0015/downloadfiles/00541219.pdf',\n",
       "   'created': '2025-01-14T10:14:02+01:00',\n",
       "   'modified': '2025-01-20T05:54:17+01:00'}],\n",
       " 'created': '2024-12-05T09:10:25+01:00',\n",
       " 'modified': '2025-01-20T05:54:17+01:00'}"
      ]
     },
     "execution_count": 31,
     "metadata": {},
     "output_type": "execute_result"
    }
   ],
   "source": [
    "l_pages_data[0][0]"
   ]
  },
  {
   "cell_type": "markdown",
   "metadata": {},
   "source": [
    "## 4c) Going for the 2nd level of info:  1. step: agenda items per meeting !"
   ]
  },
  {
   "cell_type": "code",
   "execution_count": 52,
   "metadata": {},
   "outputs": [],
   "source": [
    "#len(l_pages_data[0][0].get('agendaItem'))"
   ]
  },
  {
   "cell_type": "code",
   "execution_count": 25,
   "metadata": {},
   "outputs": [],
   "source": [
    "# initiate empty result df\n",
    "df_meetings_agenda = pd.DataFrame()"
   ]
  },
  {
   "cell_type": "code",
   "execution_count": 26,
   "metadata": {},
   "outputs": [],
   "source": [
    "for p in range(len(l_pages_data)):            # iterate over number of retrieved pages\n",
    "    for m in range(len(l_pages_data[p])):     # iterate over no. of meeting enties on given page\n",
    "        l_agenda_items = l_pages_data[p][m].get('agendaItem')   # get list with agenda item for given list\n",
    "                                                                # list items are dictionaries\n",
    "        if l_agenda_items == None:                              # check if there are agenda items at all !\n",
    "            continue\n",
    "        else:           \n",
    "            df_meetings_agenda = pd.concat([df_meetings_agenda, pd.json_normalize(l_agenda_items)], \n",
    "                             ignore_index=True, sort=False)"
   ]
  },
  {
   "cell_type": "code",
   "execution_count": 27,
   "metadata": {},
   "outputs": [
    {
     "name": "stdout",
     "output_type": "stream",
     "text": [
      "['id' 'type' 'meeting' 'number' 'order' 'name' 'public' 'created'\n",
      " 'modified' 'consultation' 'result' 'auxiliaryFile']\n",
      "18101\n"
     ]
    },
    {
     "data": {
      "text/html": [
       "<div>\n",
       "<style scoped>\n",
       "    .dataframe tbody tr th:only-of-type {\n",
       "        vertical-align: middle;\n",
       "    }\n",
       "\n",
       "    .dataframe tbody tr th {\n",
       "        vertical-align: top;\n",
       "    }\n",
       "\n",
       "    .dataframe thead th {\n",
       "        text-align: right;\n",
       "    }\n",
       "</style>\n",
       "<table border=\"1\" class=\"dataframe\">\n",
       "  <thead>\n",
       "    <tr style=\"text-align: right;\">\n",
       "      <th></th>\n",
       "      <th>id</th>\n",
       "      <th>type</th>\n",
       "      <th>meeting</th>\n",
       "      <th>number</th>\n",
       "      <th>order</th>\n",
       "      <th>name</th>\n",
       "      <th>public</th>\n",
       "      <th>created</th>\n",
       "      <th>modified</th>\n",
       "      <th>consultation</th>\n",
       "      <th>result</th>\n",
       "      <th>auxiliaryFile</th>\n",
       "    </tr>\n",
       "  </thead>\n",
       "  <tbody>\n",
       "    <tr>\n",
       "      <th>18099</th>\n",
       "      <td>http://ris-oparl.itk-rheinland.de/Oparl/bodies...</td>\n",
       "      <td>https://schema.oparl.org/1.1/AgendaItem</td>\n",
       "      <td>http://ris-oparl.itk-rheinland.de/Oparl/bodies...</td>\n",
       "      <td>7.8</td>\n",
       "      <td>64</td>\n",
       "      <td>Pumptrack-Anlage auf dem Bolzplatz an der Quad...</td>\n",
       "      <td>True</td>\n",
       "      <td>2022-05-10T02:51:04+02:00</td>\n",
       "      <td>2024-12-30T11:07:34+01:00</td>\n",
       "      <td>http://ris-oparl.itk-rheinland.de/Oparl/bodies...</td>\n",
       "      <td>zur Kenntnis genommen</td>\n",
       "      <td>NaN</td>\n",
       "    </tr>\n",
       "    <tr>\n",
       "      <th>18100</th>\n",
       "      <td>http://ris-oparl.itk-rheinland.de/Oparl/bodies...</td>\n",
       "      <td>https://schema.oparl.org/1.1/AgendaItem</td>\n",
       "      <td>http://ris-oparl.itk-rheinland.de/Oparl/bodies...</td>\n",
       "      <td>7.9</td>\n",
       "      <td>65</td>\n",
       "      <td>Nutzung Bürgerhaus Aloys-Odenthal-Platz - Info...</td>\n",
       "      <td>True</td>\n",
       "      <td>2022-05-13T02:06:00+02:00</td>\n",
       "      <td>2024-12-30T11:07:34+01:00</td>\n",
       "      <td>http://ris-oparl.itk-rheinland.de/Oparl/bodies...</td>\n",
       "      <td>zur Kenntnis genommen</td>\n",
       "      <td>NaN</td>\n",
       "    </tr>\n",
       "  </tbody>\n",
       "</table>\n",
       "</div>"
      ],
      "text/plain": [
       "                                                      id  \\\n",
       "18099  http://ris-oparl.itk-rheinland.de/Oparl/bodies...   \n",
       "18100  http://ris-oparl.itk-rheinland.de/Oparl/bodies...   \n",
       "\n",
       "                                          type  \\\n",
       "18099  https://schema.oparl.org/1.1/AgendaItem   \n",
       "18100  https://schema.oparl.org/1.1/AgendaItem   \n",
       "\n",
       "                                                 meeting number order  \\\n",
       "18099  http://ris-oparl.itk-rheinland.de/Oparl/bodies...    7.8    64   \n",
       "18100  http://ris-oparl.itk-rheinland.de/Oparl/bodies...    7.9    65   \n",
       "\n",
       "                                                    name  public  \\\n",
       "18099  Pumptrack-Anlage auf dem Bolzplatz an der Quad...    True   \n",
       "18100  Nutzung Bürgerhaus Aloys-Odenthal-Platz - Info...    True   \n",
       "\n",
       "                         created                   modified  \\\n",
       "18099  2022-05-10T02:51:04+02:00  2024-12-30T11:07:34+01:00   \n",
       "18100  2022-05-13T02:06:00+02:00  2024-12-30T11:07:34+01:00   \n",
       "\n",
       "                                            consultation  \\\n",
       "18099  http://ris-oparl.itk-rheinland.de/Oparl/bodies...   \n",
       "18100  http://ris-oparl.itk-rheinland.de/Oparl/bodies...   \n",
       "\n",
       "                      result auxiliaryFile  \n",
       "18099  zur Kenntnis genommen           NaN  \n",
       "18100  zur Kenntnis genommen           NaN  "
      ]
     },
     "execution_count": 27,
     "metadata": {},
     "output_type": "execute_result"
    }
   ],
   "source": [
    "print(df_meetings_agenda.columns.values)\n",
    "print(len(df_meetings_agenda))\n",
    "df_meetings_agenda.tail(2)"
   ]
  },
  {
   "cell_type": "code",
   "execution_count": null,
   "metadata": {},
   "outputs": [],
   "source": []
  },
  {
   "cell_type": "markdown",
   "metadata": {},
   "source": [
    "## 4d) Going for the 2nd level of info:  2. step: auxiliary files per meeting !"
   ]
  },
  {
   "cell_type": "code",
   "execution_count": 32,
   "metadata": {},
   "outputs": [],
   "source": [
    "# l_pages_data[0][5].get('auxiliaryFile')\n",
    "# l_pages_data[2][9].get('id')   # code to retrieve MEETING-ID, which needs to be added to aux_file_info"
   ]
  },
  {
   "cell_type": "code",
   "execution_count": 33,
   "metadata": {},
   "outputs": [],
   "source": [
    "# initiate empty result df\n",
    "df_meetings_aux_files = pd.DataFrame()"
   ]
  },
  {
   "cell_type": "code",
   "execution_count": 35,
   "metadata": {},
   "outputs": [],
   "source": [
    "for p in range(len(l_pages_data)):            # iterate over number of retrieved pages\n",
    "    for m in range(len(l_pages_data[p])):     # iterate over no. of meeting enties on given page\n",
    "        l_aux_files = l_pages_data[p][m].get('auxiliaryFile')   # get list with agenda item for given list\n",
    "                                                                # list items are dictionaries\n",
    "        if l_aux_files == None:                                 # check if there are agenda items at all !\n",
    "            continue\n",
    "        else:\n",
    "            df_aux = pd.json_normalize(l_aux_files)\n",
    "            # eliminate unneeded columns\n",
    "            l_col_keep = ['id', 'name', 'date', 'downloadUrl']\n",
    "            df_aux = df_aux[l_col_keep]\n",
    "            \n",
    "            # data frame still needs to be enhanced with meeting referential info\n",
    "            df_aux['meeting_id'] = l_pages_data[p][m].get('id')\n",
    "            df_aux['meeting_name'] = l_pages_data[p][m].get('name') \n",
    "            \n",
    "            df_meetings_aux_files = pd.concat([df_meetings_aux_files, df_aux], \n",
    "                                ignore_index=True, sort=False)\n"
   ]
  },
  {
   "cell_type": "code",
   "execution_count": 36,
   "metadata": {},
   "outputs": [
    {
     "name": "stdout",
     "output_type": "stream",
     "text": [
      "['id' 'name' 'date' 'downloadUrl' 'meeting_id' 'meeting_name']\n",
      "2185\n"
     ]
    },
    {
     "data": {
      "text/html": [
       "<div>\n",
       "<style scoped>\n",
       "    .dataframe tbody tr th:only-of-type {\n",
       "        vertical-align: middle;\n",
       "    }\n",
       "\n",
       "    .dataframe tbody tr th {\n",
       "        vertical-align: top;\n",
       "    }\n",
       "\n",
       "    .dataframe thead th {\n",
       "        text-align: right;\n",
       "    }\n",
       "</style>\n",
       "<table border=\"1\" class=\"dataframe\">\n",
       "  <thead>\n",
       "    <tr style=\"text-align: right;\">\n",
       "      <th></th>\n",
       "      <th>id</th>\n",
       "      <th>name</th>\n",
       "      <th>date</th>\n",
       "      <th>downloadUrl</th>\n",
       "      <th>meeting_id</th>\n",
       "      <th>meeting_name</th>\n",
       "    </tr>\n",
       "  </thead>\n",
       "  <tbody>\n",
       "    <tr>\n",
       "      <th>2183</th>\n",
       "      <td>http://ris-oparl.itk-rheinland.de/Oparl/bodies...</td>\n",
       "      <td>2. Nachtrag, TO</td>\n",
       "      <td>2022-05-20</td>\n",
       "      <td>http://ris-oparl.itk-rheinland.de/Oparl/bodies...</td>\n",
       "      <td>http://ris-oparl.itk-rheinland.de/Oparl/bodies...</td>\n",
       "      <td>Bezirksvertretung 7</td>\n",
       "    </tr>\n",
       "    <tr>\n",
       "      <th>2184</th>\n",
       "      <td>http://ris-oparl.itk-rheinland.de/Oparl/bodies...</td>\n",
       "      <td>Niederschrift Ö</td>\n",
       "      <td>2022-06-13</td>\n",
       "      <td>http://ris-oparl.itk-rheinland.de/Oparl/bodies...</td>\n",
       "      <td>http://ris-oparl.itk-rheinland.de/Oparl/bodies...</td>\n",
       "      <td>Bezirksvertretung 7</td>\n",
       "    </tr>\n",
       "  </tbody>\n",
       "</table>\n",
       "</div>"
      ],
      "text/plain": [
       "                                                     id             name  \\\n",
       "2183  http://ris-oparl.itk-rheinland.de/Oparl/bodies...  2. Nachtrag, TO   \n",
       "2184  http://ris-oparl.itk-rheinland.de/Oparl/bodies...  Niederschrift Ö   \n",
       "\n",
       "            date                                        downloadUrl  \\\n",
       "2183  2022-05-20  http://ris-oparl.itk-rheinland.de/Oparl/bodies...   \n",
       "2184  2022-06-13  http://ris-oparl.itk-rheinland.de/Oparl/bodies...   \n",
       "\n",
       "                                             meeting_id         meeting_name  \n",
       "2183  http://ris-oparl.itk-rheinland.de/Oparl/bodies...  Bezirksvertretung 7  \n",
       "2184  http://ris-oparl.itk-rheinland.de/Oparl/bodies...  Bezirksvertretung 7  "
      ]
     },
     "execution_count": 36,
     "metadata": {},
     "output_type": "execute_result"
    }
   ],
   "source": [
    "print(df_meetings_aux_files.columns.values)\n",
    "print(len(df_meetings_aux_files))\n",
    "df_meetings_aux_files.tail(2)"
   ]
  },
  {
   "cell_type": "code",
   "execution_count": null,
   "metadata": {},
   "outputs": [],
   "source": []
  },
  {
   "cell_type": "markdown",
   "metadata": {},
   "source": [
    "## 4e) Joining referential info to 2nd level info and prettifying output"
   ]
  },
  {
   "cell_type": "code",
   "execution_count": 37,
   "metadata": {},
   "outputs": [],
   "source": [
    "# print('df_mmeetings_2 column names: ' + df_meetings_2.columns.values)\n",
    "# print('df_meetings_agenda column names: ' + df_meetings_agenda.columns.values)\n",
    "# print('df_meetings_aux_files column names: ' + df_meetings_aux_files.columns.values)"
   ]
  },
  {
   "cell_type": "markdown",
   "metadata": {},
   "source": [
    "### 4e I) Merging & prettification for agenda information"
   ]
  },
  {
   "cell_type": "code",
   "execution_count": 38,
   "metadata": {},
   "outputs": [],
   "source": [
    "df_agenda = pd.merge(df_meetings_agenda, df_meetings_2, left_on='meeting', right_on = 'id')"
   ]
  },
  {
   "cell_type": "code",
   "execution_count": 39,
   "metadata": {},
   "outputs": [
    {
     "name": "stdout",
     "output_type": "stream",
     "text": [
      "['id_x' 'type_x' 'meeting' 'number' 'order' 'name_x' 'public' 'created'\n",
      " 'modified' 'consultation' 'result' 'auxiliaryFile' 'id_y'\n",
      " 'location.created' 'location.id' 'location.locality' 'location.modified'\n",
      " 'location.postalCode' 'location.room' 'location.streetAddress'\n",
      " 'location.subLocality' 'location.type' 'name_y' 'organization' 'start'\n",
      " 'type_y' 'verbatimProtocol.date' 'verbatimProtocol.downloadUrl'\n",
      " 'verbatimProtocol.id' 'verbatimProtocol.name']\n"
     ]
    },
    {
     "data": {
      "text/html": [
       "<div>\n",
       "<style scoped>\n",
       "    .dataframe tbody tr th:only-of-type {\n",
       "        vertical-align: middle;\n",
       "    }\n",
       "\n",
       "    .dataframe tbody tr th {\n",
       "        vertical-align: top;\n",
       "    }\n",
       "\n",
       "    .dataframe thead th {\n",
       "        text-align: right;\n",
       "    }\n",
       "</style>\n",
       "<table border=\"1\" class=\"dataframe\">\n",
       "  <thead>\n",
       "    <tr style=\"text-align: right;\">\n",
       "      <th></th>\n",
       "      <th>id_x</th>\n",
       "      <th>type_x</th>\n",
       "      <th>meeting</th>\n",
       "      <th>number</th>\n",
       "      <th>order</th>\n",
       "      <th>name_x</th>\n",
       "      <th>public</th>\n",
       "      <th>created</th>\n",
       "      <th>modified</th>\n",
       "      <th>consultation</th>\n",
       "      <th>...</th>\n",
       "      <th>location.subLocality</th>\n",
       "      <th>location.type</th>\n",
       "      <th>name_y</th>\n",
       "      <th>organization</th>\n",
       "      <th>start</th>\n",
       "      <th>type_y</th>\n",
       "      <th>verbatimProtocol.date</th>\n",
       "      <th>verbatimProtocol.downloadUrl</th>\n",
       "      <th>verbatimProtocol.id</th>\n",
       "      <th>verbatimProtocol.name</th>\n",
       "    </tr>\n",
       "  </thead>\n",
       "  <tbody>\n",
       "    <tr>\n",
       "      <th>0</th>\n",
       "      <td>http://ris-oparl.itk-rheinland.de/Oparl/bodies...</td>\n",
       "      <td>https://schema.oparl.org/1.1/AgendaItem</td>\n",
       "      <td>http://ris-oparl.itk-rheinland.de/Oparl/bodies...</td>\n",
       "      <td>0</td>\n",
       "      <td>1</td>\n",
       "      <td>Öffentlicher Teil</td>\n",
       "      <td>True</td>\n",
       "      <td>2024-12-02T01:49:41+01:00</td>\n",
       "      <td>2024-12-30T11:07:34+01:00</td>\n",
       "      <td>NaN</td>\n",
       "      <td>...</td>\n",
       "      <td></td>\n",
       "      <td>https://schema.oparl.org/1.1/Location</td>\n",
       "      <td>Ordnungs- und Verkehrsausschuss</td>\n",
       "      <td>[http://ris-oparl.itk-rheinland.de/Oparl/bodie...</td>\n",
       "      <td>2025-01-15T16:00:00+01:00</td>\n",
       "      <td>https://schema.oparl.org/1.1/Meeting</td>\n",
       "      <td>2025-01-07</td>\n",
       "      <td>http://ris-oparl.itk-rheinland.de/Oparl/bodies...</td>\n",
       "      <td>http://ris-oparl.itk-rheinland.de/Oparl/bodies...</td>\n",
       "      <td>1. NachtragsTO</td>\n",
       "    </tr>\n",
       "    <tr>\n",
       "      <th>1</th>\n",
       "      <td>http://ris-oparl.itk-rheinland.de/Oparl/bodies...</td>\n",
       "      <td>https://schema.oparl.org/1.1/AgendaItem</td>\n",
       "      <td>http://ris-oparl.itk-rheinland.de/Oparl/bodies...</td>\n",
       "      <td>1</td>\n",
       "      <td>2</td>\n",
       "      <td>Feststellung der Beschlussfähigkeit</td>\n",
       "      <td>True</td>\n",
       "      <td>2024-12-02T01:49:41+01:00</td>\n",
       "      <td>2024-12-30T11:07:34+01:00</td>\n",
       "      <td>NaN</td>\n",
       "      <td>...</td>\n",
       "      <td></td>\n",
       "      <td>https://schema.oparl.org/1.1/Location</td>\n",
       "      <td>Ordnungs- und Verkehrsausschuss</td>\n",
       "      <td>[http://ris-oparl.itk-rheinland.de/Oparl/bodie...</td>\n",
       "      <td>2025-01-15T16:00:00+01:00</td>\n",
       "      <td>https://schema.oparl.org/1.1/Meeting</td>\n",
       "      <td>2025-01-07</td>\n",
       "      <td>http://ris-oparl.itk-rheinland.de/Oparl/bodies...</td>\n",
       "      <td>http://ris-oparl.itk-rheinland.de/Oparl/bodies...</td>\n",
       "      <td>1. NachtragsTO</td>\n",
       "    </tr>\n",
       "  </tbody>\n",
       "</table>\n",
       "<p>2 rows × 30 columns</p>\n",
       "</div>"
      ],
      "text/plain": [
       "                                                id_x  \\\n",
       "0  http://ris-oparl.itk-rheinland.de/Oparl/bodies...   \n",
       "1  http://ris-oparl.itk-rheinland.de/Oparl/bodies...   \n",
       "\n",
       "                                    type_x  \\\n",
       "0  https://schema.oparl.org/1.1/AgendaItem   \n",
       "1  https://schema.oparl.org/1.1/AgendaItem   \n",
       "\n",
       "                                             meeting number order  \\\n",
       "0  http://ris-oparl.itk-rheinland.de/Oparl/bodies...      0     1   \n",
       "1  http://ris-oparl.itk-rheinland.de/Oparl/bodies...      1     2   \n",
       "\n",
       "                                name_x  public                    created  \\\n",
       "0                    Öffentlicher Teil    True  2024-12-02T01:49:41+01:00   \n",
       "1  Feststellung der Beschlussfähigkeit    True  2024-12-02T01:49:41+01:00   \n",
       "\n",
       "                    modified consultation  ... location.subLocality  \\\n",
       "0  2024-12-30T11:07:34+01:00          NaN  ...                        \n",
       "1  2024-12-30T11:07:34+01:00          NaN  ...                        \n",
       "\n",
       "                           location.type                           name_y  \\\n",
       "0  https://schema.oparl.org/1.1/Location  Ordnungs- und Verkehrsausschuss   \n",
       "1  https://schema.oparl.org/1.1/Location  Ordnungs- und Verkehrsausschuss   \n",
       "\n",
       "                                        organization  \\\n",
       "0  [http://ris-oparl.itk-rheinland.de/Oparl/bodie...   \n",
       "1  [http://ris-oparl.itk-rheinland.de/Oparl/bodie...   \n",
       "\n",
       "                       start                                type_y  \\\n",
       "0  2025-01-15T16:00:00+01:00  https://schema.oparl.org/1.1/Meeting   \n",
       "1  2025-01-15T16:00:00+01:00  https://schema.oparl.org/1.1/Meeting   \n",
       "\n",
       "  verbatimProtocol.date                       verbatimProtocol.downloadUrl  \\\n",
       "0            2025-01-07  http://ris-oparl.itk-rheinland.de/Oparl/bodies...   \n",
       "1            2025-01-07  http://ris-oparl.itk-rheinland.de/Oparl/bodies...   \n",
       "\n",
       "                                 verbatimProtocol.id verbatimProtocol.name  \n",
       "0  http://ris-oparl.itk-rheinland.de/Oparl/bodies...        1. NachtragsTO  \n",
       "1  http://ris-oparl.itk-rheinland.de/Oparl/bodies...        1. NachtragsTO  \n",
       "\n",
       "[2 rows x 30 columns]"
      ]
     },
     "execution_count": 39,
     "metadata": {},
     "output_type": "execute_result"
    }
   ],
   "source": [
    "# display raw result of table join\n",
    "print(df_agenda.columns.values)\n",
    "df_agenda.head(2)"
   ]
  },
  {
   "cell_type": "code",
   "execution_count": 40,
   "metadata": {},
   "outputs": [],
   "source": [
    "# print(df_agenda.columns.values)"
   ]
  },
  {
   "cell_type": "code",
   "execution_count": 41,
   "metadata": {},
   "outputs": [],
   "source": [
    "l_col_keep = ['id_x', 'name_x', 'number',\n",
    "'result', 'auxiliaryFile', 'id_y', 'name_y', 'organization', 'start', \n",
    "'verbatimProtocol.date', 'verbatimProtocol.downloadUrl',\n",
    "'verbatimProtocol.name']\n",
    "\n",
    "df_agenda = df_agenda[l_col_keep]\n",
    "\n",
    "d_col_rename = {'id_x': 'agenda_id', 'name_x': 'agenda_name', 'number': 'agenda_no',\n",
    "'id_y': 'meeting_id', 'name_y': 'meeting_name', \n",
    "'verbatimProtocol.date': 'meeting_protocol_date', 'verbatimProtocol.downloadUrl': 'meeting_protocol_donwloadurl',\n",
    "'verbatimProtocol.name': 'meeting_protocol_name'}\n",
    "\n",
    "df_agenda.rename(columns=d_col_rename, inplace=True)"
   ]
  },
  {
   "cell_type": "code",
   "execution_count": 42,
   "metadata": {},
   "outputs": [],
   "source": [
    "# retrieving only the download url of auxiliary files associated with agenda points\n",
    "# >> auxiliaryFile column to be replaced >> retain only downloadURL from the stored dictionary !\n",
    "# df['new column name'] = df['column name'].apply\n",
    "#                     (lambda x: 'value if condition is met' if x condition else 'value if condition is not met')\n",
    "\n",
    "df_agenda['agenda_aux_file'] = df_agenda['auxiliaryFile'].apply(lambda x: x[0].get('downloadUrl', '') if str(x) != 'nan' else '')\n",
    "\n"
   ]
  },
  {
   "cell_type": "code",
   "execution_count": 43,
   "metadata": {},
   "outputs": [],
   "source": [
    "del df_agenda['auxiliaryFile']"
   ]
  },
  {
   "cell_type": "code",
   "execution_count": 44,
   "metadata": {},
   "outputs": [
    {
     "name": "stdout",
     "output_type": "stream",
     "text": [
      "['agenda_id' 'agenda_name' 'agenda_no' 'result' 'meeting_id'\n",
      " 'meeting_name' 'organization' 'start' 'meeting_protocol_date'\n",
      " 'meeting_protocol_donwloadurl' 'meeting_protocol_name' 'agenda_aux_file']\n",
      "18101\n"
     ]
    },
    {
     "data": {
      "text/html": [
       "<div>\n",
       "<style scoped>\n",
       "    .dataframe tbody tr th:only-of-type {\n",
       "        vertical-align: middle;\n",
       "    }\n",
       "\n",
       "    .dataframe tbody tr th {\n",
       "        vertical-align: top;\n",
       "    }\n",
       "\n",
       "    .dataframe thead th {\n",
       "        text-align: right;\n",
       "    }\n",
       "</style>\n",
       "<table border=\"1\" class=\"dataframe\">\n",
       "  <thead>\n",
       "    <tr style=\"text-align: right;\">\n",
       "      <th></th>\n",
       "      <th>agenda_id</th>\n",
       "      <th>agenda_name</th>\n",
       "      <th>agenda_no</th>\n",
       "      <th>result</th>\n",
       "      <th>meeting_id</th>\n",
       "      <th>meeting_name</th>\n",
       "      <th>organization</th>\n",
       "      <th>start</th>\n",
       "      <th>meeting_protocol_date</th>\n",
       "      <th>meeting_protocol_donwloadurl</th>\n",
       "      <th>meeting_protocol_name</th>\n",
       "      <th>agenda_aux_file</th>\n",
       "    </tr>\n",
       "  </thead>\n",
       "  <tbody>\n",
       "    <tr>\n",
       "      <th>18099</th>\n",
       "      <td>http://ris-oparl.itk-rheinland.de/Oparl/bodies...</td>\n",
       "      <td>Pumptrack-Anlage auf dem Bolzplatz an der Quad...</td>\n",
       "      <td>7.8</td>\n",
       "      <td>zur Kenntnis genommen</td>\n",
       "      <td>http://ris-oparl.itk-rheinland.de/Oparl/bodies...</td>\n",
       "      <td>Bezirksvertretung 7</td>\n",
       "      <td>[http://ris-oparl.itk-rheinland.de/Oparl/bodie...</td>\n",
       "      <td>2022-05-24T17:00:00+02:00</td>\n",
       "      <td>2022-05-11</td>\n",
       "      <td>http://ris-oparl.itk-rheinland.de/Oparl/bodies...</td>\n",
       "      <td>öffentliches digitales Sitzungspaket 24.05.2022</td>\n",
       "      <td></td>\n",
       "    </tr>\n",
       "    <tr>\n",
       "      <th>18100</th>\n",
       "      <td>http://ris-oparl.itk-rheinland.de/Oparl/bodies...</td>\n",
       "      <td>Nutzung Bürgerhaus Aloys-Odenthal-Platz - Info...</td>\n",
       "      <td>7.9</td>\n",
       "      <td>zur Kenntnis genommen</td>\n",
       "      <td>http://ris-oparl.itk-rheinland.de/Oparl/bodies...</td>\n",
       "      <td>Bezirksvertretung 7</td>\n",
       "      <td>[http://ris-oparl.itk-rheinland.de/Oparl/bodie...</td>\n",
       "      <td>2022-05-24T17:00:00+02:00</td>\n",
       "      <td>2022-05-11</td>\n",
       "      <td>http://ris-oparl.itk-rheinland.de/Oparl/bodies...</td>\n",
       "      <td>öffentliches digitales Sitzungspaket 24.05.2022</td>\n",
       "      <td></td>\n",
       "    </tr>\n",
       "  </tbody>\n",
       "</table>\n",
       "</div>"
      ],
      "text/plain": [
       "                                               agenda_id  \\\n",
       "18099  http://ris-oparl.itk-rheinland.de/Oparl/bodies...   \n",
       "18100  http://ris-oparl.itk-rheinland.de/Oparl/bodies...   \n",
       "\n",
       "                                             agenda_name agenda_no  \\\n",
       "18099  Pumptrack-Anlage auf dem Bolzplatz an der Quad...       7.8   \n",
       "18100  Nutzung Bürgerhaus Aloys-Odenthal-Platz - Info...       7.9   \n",
       "\n",
       "                      result  \\\n",
       "18099  zur Kenntnis genommen   \n",
       "18100  zur Kenntnis genommen   \n",
       "\n",
       "                                              meeting_id         meeting_name  \\\n",
       "18099  http://ris-oparl.itk-rheinland.de/Oparl/bodies...  Bezirksvertretung 7   \n",
       "18100  http://ris-oparl.itk-rheinland.de/Oparl/bodies...  Bezirksvertretung 7   \n",
       "\n",
       "                                            organization  \\\n",
       "18099  [http://ris-oparl.itk-rheinland.de/Oparl/bodie...   \n",
       "18100  [http://ris-oparl.itk-rheinland.de/Oparl/bodie...   \n",
       "\n",
       "                           start meeting_protocol_date  \\\n",
       "18099  2022-05-24T17:00:00+02:00            2022-05-11   \n",
       "18100  2022-05-24T17:00:00+02:00            2022-05-11   \n",
       "\n",
       "                            meeting_protocol_donwloadurl  \\\n",
       "18099  http://ris-oparl.itk-rheinland.de/Oparl/bodies...   \n",
       "18100  http://ris-oparl.itk-rheinland.de/Oparl/bodies...   \n",
       "\n",
       "                                 meeting_protocol_name agenda_aux_file  \n",
       "18099  öffentliches digitales Sitzungspaket 24.05.2022                  \n",
       "18100  öffentliches digitales Sitzungspaket 24.05.2022                  "
      ]
     },
     "execution_count": 44,
     "metadata": {},
     "output_type": "execute_result"
    }
   ],
   "source": [
    "print(df_agenda.columns.values)\n",
    "print(len(df_agenda))\n",
    "df_agenda.tail(2)"
   ]
  },
  {
   "cell_type": "markdown",
   "metadata": {},
   "source": [
    "### 4e II) Merging & prettification for auxilliary file information"
   ]
  },
  {
   "cell_type": "code",
   "execution_count": 45,
   "metadata": {},
   "outputs": [],
   "source": [
    "df_aux_files = pd.merge(df_meetings_aux_files, df_meetings_2, left_on='meeting_id', right_on = 'id')"
   ]
  },
  {
   "cell_type": "code",
   "execution_count": 46,
   "metadata": {},
   "outputs": [
    {
     "name": "stdout",
     "output_type": "stream",
     "text": [
      "['id_x' 'name_x' 'date' 'downloadUrl' 'meeting_id' 'meeting_name' 'id_y'\n",
      " 'location.created' 'location.id' 'location.locality' 'location.modified'\n",
      " 'location.postalCode' 'location.room' 'location.streetAddress'\n",
      " 'location.subLocality' 'location.type' 'name_y' 'organization' 'start'\n",
      " 'type' 'verbatimProtocol.date' 'verbatimProtocol.downloadUrl'\n",
      " 'verbatimProtocol.id' 'verbatimProtocol.name']\n"
     ]
    },
    {
     "data": {
      "text/html": [
       "<div>\n",
       "<style scoped>\n",
       "    .dataframe tbody tr th:only-of-type {\n",
       "        vertical-align: middle;\n",
       "    }\n",
       "\n",
       "    .dataframe tbody tr th {\n",
       "        vertical-align: top;\n",
       "    }\n",
       "\n",
       "    .dataframe thead th {\n",
       "        text-align: right;\n",
       "    }\n",
       "</style>\n",
       "<table border=\"1\" class=\"dataframe\">\n",
       "  <thead>\n",
       "    <tr style=\"text-align: right;\">\n",
       "      <th></th>\n",
       "      <th>id_x</th>\n",
       "      <th>name_x</th>\n",
       "      <th>date</th>\n",
       "      <th>downloadUrl</th>\n",
       "      <th>meeting_id</th>\n",
       "      <th>meeting_name</th>\n",
       "      <th>id_y</th>\n",
       "      <th>location.created</th>\n",
       "      <th>location.id</th>\n",
       "      <th>location.locality</th>\n",
       "      <th>...</th>\n",
       "      <th>location.subLocality</th>\n",
       "      <th>location.type</th>\n",
       "      <th>name_y</th>\n",
       "      <th>organization</th>\n",
       "      <th>start</th>\n",
       "      <th>type</th>\n",
       "      <th>verbatimProtocol.date</th>\n",
       "      <th>verbatimProtocol.downloadUrl</th>\n",
       "      <th>verbatimProtocol.id</th>\n",
       "      <th>verbatimProtocol.name</th>\n",
       "    </tr>\n",
       "  </thead>\n",
       "  <tbody>\n",
       "    <tr>\n",
       "      <th>0</th>\n",
       "      <td>http://ris-oparl.itk-rheinland.de/Oparl/bodies...</td>\n",
       "      <td>Einladung</td>\n",
       "      <td>2025-01-14</td>\n",
       "      <td>http://ris-oparl.itk-rheinland.de/Oparl/bodies...</td>\n",
       "      <td>http://ris-oparl.itk-rheinland.de/Oparl/bodies...</td>\n",
       "      <td>Rechnungsprüfungsausschuss</td>\n",
       "      <td>http://ris-oparl.itk-rheinland.de/Oparl/bodies...</td>\n",
       "      <td>2019-03-26T08:42:23+01:00</td>\n",
       "      <td>http://ris-oparl.itk-rheinland.de/Oparl/bodies...</td>\n",
       "      <td>Düsseldorf</td>\n",
       "      <td>...</td>\n",
       "      <td></td>\n",
       "      <td>https://schema.oparl.org/1.1/Location</td>\n",
       "      <td>Rechnungsprüfungsausschuss</td>\n",
       "      <td>[http://ris-oparl.itk-rheinland.de/Oparl/bodie...</td>\n",
       "      <td>2025-01-28T15:00:00+01:00</td>\n",
       "      <td>https://schema.oparl.org/1.1/Meeting</td>\n",
       "      <td>NaN</td>\n",
       "      <td>NaN</td>\n",
       "      <td>NaN</td>\n",
       "      <td>NaN</td>\n",
       "    </tr>\n",
       "    <tr>\n",
       "      <th>1</th>\n",
       "      <td>http://ris-oparl.itk-rheinland.de/Oparl/bodies...</td>\n",
       "      <td>Einladung</td>\n",
       "      <td>2025-01-06</td>\n",
       "      <td>http://ris-oparl.itk-rheinland.de/Oparl/bodies...</td>\n",
       "      <td>http://ris-oparl.itk-rheinland.de/Oparl/bodies...</td>\n",
       "      <td>Ordnungs- und Verkehrsausschuss</td>\n",
       "      <td>http://ris-oparl.itk-rheinland.de/Oparl/bodies...</td>\n",
       "      <td>2019-03-26T08:42:23+01:00</td>\n",
       "      <td>http://ris-oparl.itk-rheinland.de/Oparl/bodies...</td>\n",
       "      <td>Düsseldorf</td>\n",
       "      <td>...</td>\n",
       "      <td></td>\n",
       "      <td>https://schema.oparl.org/1.1/Location</td>\n",
       "      <td>Ordnungs- und Verkehrsausschuss</td>\n",
       "      <td>[http://ris-oparl.itk-rheinland.de/Oparl/bodie...</td>\n",
       "      <td>2025-01-15T16:00:00+01:00</td>\n",
       "      <td>https://schema.oparl.org/1.1/Meeting</td>\n",
       "      <td>2025-01-07</td>\n",
       "      <td>http://ris-oparl.itk-rheinland.de/Oparl/bodies...</td>\n",
       "      <td>http://ris-oparl.itk-rheinland.de/Oparl/bodies...</td>\n",
       "      <td>1. NachtragsTO</td>\n",
       "    </tr>\n",
       "  </tbody>\n",
       "</table>\n",
       "<p>2 rows × 24 columns</p>\n",
       "</div>"
      ],
      "text/plain": [
       "                                                id_x     name_x        date  \\\n",
       "0  http://ris-oparl.itk-rheinland.de/Oparl/bodies...  Einladung  2025-01-14   \n",
       "1  http://ris-oparl.itk-rheinland.de/Oparl/bodies...  Einladung  2025-01-06   \n",
       "\n",
       "                                         downloadUrl  \\\n",
       "0  http://ris-oparl.itk-rheinland.de/Oparl/bodies...   \n",
       "1  http://ris-oparl.itk-rheinland.de/Oparl/bodies...   \n",
       "\n",
       "                                          meeting_id  \\\n",
       "0  http://ris-oparl.itk-rheinland.de/Oparl/bodies...   \n",
       "1  http://ris-oparl.itk-rheinland.de/Oparl/bodies...   \n",
       "\n",
       "                      meeting_name  \\\n",
       "0       Rechnungsprüfungsausschuss   \n",
       "1  Ordnungs- und Verkehrsausschuss   \n",
       "\n",
       "                                                id_y  \\\n",
       "0  http://ris-oparl.itk-rheinland.de/Oparl/bodies...   \n",
       "1  http://ris-oparl.itk-rheinland.de/Oparl/bodies...   \n",
       "\n",
       "            location.created  \\\n",
       "0  2019-03-26T08:42:23+01:00   \n",
       "1  2019-03-26T08:42:23+01:00   \n",
       "\n",
       "                                         location.id location.locality  ...  \\\n",
       "0  http://ris-oparl.itk-rheinland.de/Oparl/bodies...        Düsseldorf  ...   \n",
       "1  http://ris-oparl.itk-rheinland.de/Oparl/bodies...        Düsseldorf  ...   \n",
       "\n",
       "  location.subLocality                          location.type  \\\n",
       "0                       https://schema.oparl.org/1.1/Location   \n",
       "1                       https://schema.oparl.org/1.1/Location   \n",
       "\n",
       "                            name_y  \\\n",
       "0       Rechnungsprüfungsausschuss   \n",
       "1  Ordnungs- und Verkehrsausschuss   \n",
       "\n",
       "                                        organization  \\\n",
       "0  [http://ris-oparl.itk-rheinland.de/Oparl/bodie...   \n",
       "1  [http://ris-oparl.itk-rheinland.de/Oparl/bodie...   \n",
       "\n",
       "                       start                                  type  \\\n",
       "0  2025-01-28T15:00:00+01:00  https://schema.oparl.org/1.1/Meeting   \n",
       "1  2025-01-15T16:00:00+01:00  https://schema.oparl.org/1.1/Meeting   \n",
       "\n",
       "  verbatimProtocol.date                       verbatimProtocol.downloadUrl  \\\n",
       "0                   NaN                                                NaN   \n",
       "1            2025-01-07  http://ris-oparl.itk-rheinland.de/Oparl/bodies...   \n",
       "\n",
       "                                 verbatimProtocol.id verbatimProtocol.name  \n",
       "0                                                NaN                   NaN  \n",
       "1  http://ris-oparl.itk-rheinland.de/Oparl/bodies...        1. NachtragsTO  \n",
       "\n",
       "[2 rows x 24 columns]"
      ]
     },
     "execution_count": 46,
     "metadata": {},
     "output_type": "execute_result"
    }
   ],
   "source": [
    "# display raw result of table join\n",
    "print(df_aux_files.columns.values)\n",
    "df_aux_files.head(2)"
   ]
  },
  {
   "cell_type": "code",
   "execution_count": 47,
   "metadata": {},
   "outputs": [
    {
     "name": "stdout",
     "output_type": "stream",
     "text": [
      "['id_x' 'name_x' 'date' 'downloadUrl' 'meeting_id' 'meeting_name' 'id_y'\n",
      " 'location.created' 'location.id' 'location.locality' 'location.modified'\n",
      " 'location.postalCode' 'location.room' 'location.streetAddress'\n",
      " 'location.subLocality' 'location.type' 'name_y' 'organization' 'start'\n",
      " 'type' 'verbatimProtocol.date' 'verbatimProtocol.downloadUrl'\n",
      " 'verbatimProtocol.id' 'verbatimProtocol.name']\n"
     ]
    }
   ],
   "source": [
    "print(df_aux_files.columns.values)"
   ]
  },
  {
   "cell_type": "code",
   "execution_count": null,
   "metadata": {},
   "outputs": [],
   "source": []
  },
  {
   "cell_type": "code",
   "execution_count": 48,
   "metadata": {},
   "outputs": [],
   "source": [
    "l_col_keep = ['id_x', 'name_x', 'date', 'downloadUrl', \n",
    "'id_y', 'name_y', 'organization', 'start', 'verbatimProtocol.date',\n",
    "'verbatimProtocol.downloadUrl', 'verbatimProtocol.name']\n",
    "\n",
    "df_aux_files = df_aux_files[l_col_keep]\n",
    "\n",
    "d_col_rename = {'id_x': 'aux_file_id', 'name_x': 'aux_file_name', \n",
    "'id_y': 'meeting_id', 'name_y': 'meeting_name', \n",
    "'verbatimProtocol.date': 'meeting_protocol_date', 'verbatimProtocol.downloadUrl': 'meeting_protocol_donwloadurl',\n",
    "'verbatimProtocol.name': 'meeting_protocol_name'}\n",
    "\n",
    "df_aux_files.rename(columns=d_col_rename, inplace=True)"
   ]
  },
  {
   "cell_type": "code",
   "execution_count": 49,
   "metadata": {},
   "outputs": [
    {
     "name": "stdout",
     "output_type": "stream",
     "text": [
      "['aux_file_id' 'aux_file_name' 'date' 'downloadUrl' 'meeting_id'\n",
      " 'meeting_name' 'organization' 'start' 'meeting_protocol_date'\n",
      " 'meeting_protocol_donwloadurl' 'meeting_protocol_name']\n",
      "2185\n"
     ]
    },
    {
     "data": {
      "text/html": [
       "<div>\n",
       "<style scoped>\n",
       "    .dataframe tbody tr th:only-of-type {\n",
       "        vertical-align: middle;\n",
       "    }\n",
       "\n",
       "    .dataframe tbody tr th {\n",
       "        vertical-align: top;\n",
       "    }\n",
       "\n",
       "    .dataframe thead th {\n",
       "        text-align: right;\n",
       "    }\n",
       "</style>\n",
       "<table border=\"1\" class=\"dataframe\">\n",
       "  <thead>\n",
       "    <tr style=\"text-align: right;\">\n",
       "      <th></th>\n",
       "      <th>aux_file_id</th>\n",
       "      <th>aux_file_name</th>\n",
       "      <th>date</th>\n",
       "      <th>downloadUrl</th>\n",
       "      <th>meeting_id</th>\n",
       "      <th>meeting_name</th>\n",
       "      <th>organization</th>\n",
       "      <th>start</th>\n",
       "      <th>meeting_protocol_date</th>\n",
       "      <th>meeting_protocol_donwloadurl</th>\n",
       "      <th>meeting_protocol_name</th>\n",
       "    </tr>\n",
       "  </thead>\n",
       "  <tbody>\n",
       "    <tr>\n",
       "      <th>2183</th>\n",
       "      <td>http://ris-oparl.itk-rheinland.de/Oparl/bodies...</td>\n",
       "      <td>2. Nachtrag, TO</td>\n",
       "      <td>2022-05-20</td>\n",
       "      <td>http://ris-oparl.itk-rheinland.de/Oparl/bodies...</td>\n",
       "      <td>http://ris-oparl.itk-rheinland.de/Oparl/bodies...</td>\n",
       "      <td>Bezirksvertretung 7</td>\n",
       "      <td>[http://ris-oparl.itk-rheinland.de/Oparl/bodie...</td>\n",
       "      <td>2022-05-24T17:00:00+02:00</td>\n",
       "      <td>2022-05-11</td>\n",
       "      <td>http://ris-oparl.itk-rheinland.de/Oparl/bodies...</td>\n",
       "      <td>öffentliches digitales Sitzungspaket 24.05.2022</td>\n",
       "    </tr>\n",
       "    <tr>\n",
       "      <th>2184</th>\n",
       "      <td>http://ris-oparl.itk-rheinland.de/Oparl/bodies...</td>\n",
       "      <td>Niederschrift Ö</td>\n",
       "      <td>2022-06-13</td>\n",
       "      <td>http://ris-oparl.itk-rheinland.de/Oparl/bodies...</td>\n",
       "      <td>http://ris-oparl.itk-rheinland.de/Oparl/bodies...</td>\n",
       "      <td>Bezirksvertretung 7</td>\n",
       "      <td>[http://ris-oparl.itk-rheinland.de/Oparl/bodie...</td>\n",
       "      <td>2022-05-24T17:00:00+02:00</td>\n",
       "      <td>2022-05-11</td>\n",
       "      <td>http://ris-oparl.itk-rheinland.de/Oparl/bodies...</td>\n",
       "      <td>öffentliches digitales Sitzungspaket 24.05.2022</td>\n",
       "    </tr>\n",
       "  </tbody>\n",
       "</table>\n",
       "</div>"
      ],
      "text/plain": [
       "                                            aux_file_id    aux_file_name  \\\n",
       "2183  http://ris-oparl.itk-rheinland.de/Oparl/bodies...  2. Nachtrag, TO   \n",
       "2184  http://ris-oparl.itk-rheinland.de/Oparl/bodies...  Niederschrift Ö   \n",
       "\n",
       "            date                                        downloadUrl  \\\n",
       "2183  2022-05-20  http://ris-oparl.itk-rheinland.de/Oparl/bodies...   \n",
       "2184  2022-06-13  http://ris-oparl.itk-rheinland.de/Oparl/bodies...   \n",
       "\n",
       "                                             meeting_id         meeting_name  \\\n",
       "2183  http://ris-oparl.itk-rheinland.de/Oparl/bodies...  Bezirksvertretung 7   \n",
       "2184  http://ris-oparl.itk-rheinland.de/Oparl/bodies...  Bezirksvertretung 7   \n",
       "\n",
       "                                           organization  \\\n",
       "2183  [http://ris-oparl.itk-rheinland.de/Oparl/bodie...   \n",
       "2184  [http://ris-oparl.itk-rheinland.de/Oparl/bodie...   \n",
       "\n",
       "                          start meeting_protocol_date  \\\n",
       "2183  2022-05-24T17:00:00+02:00            2022-05-11   \n",
       "2184  2022-05-24T17:00:00+02:00            2022-05-11   \n",
       "\n",
       "                           meeting_protocol_donwloadurl  \\\n",
       "2183  http://ris-oparl.itk-rheinland.de/Oparl/bodies...   \n",
       "2184  http://ris-oparl.itk-rheinland.de/Oparl/bodies...   \n",
       "\n",
       "                                meeting_protocol_name  \n",
       "2183  öffentliches digitales Sitzungspaket 24.05.2022  \n",
       "2184  öffentliches digitales Sitzungspaket 24.05.2022  "
      ]
     },
     "execution_count": 49,
     "metadata": {},
     "output_type": "execute_result"
    }
   ],
   "source": [
    "print(df_aux_files.columns.values)\n",
    "print(len(df_aux_files))\n",
    "df_aux_files.tail(2)"
   ]
  },
  {
   "cell_type": "code",
   "execution_count": 51,
   "metadata": {},
   "outputs": [],
   "source": [
    "# Create Excel file with multiple sheets using openpyxl engine\n",
    "with pd.ExcelWriter('_RIS_meeting_info.xlsx', engine='openpyxl') as writer:\n",
    "    df_meetings_2.to_excel(writer, sheet_name='meeting_referential', index=True)\n",
    "    df_aux_files.to_excel(writer, sheet_name='aux_files', index=True)\n",
    "    df_agenda.to_excel(writer, sheet_name='agenda', index=True)\n",
    "    # The writer will automatically save when exiting the context manager"
   ]
  },
  {
   "cell_type": "code",
   "execution_count": null,
   "metadata": {},
   "outputs": [],
   "source": []
  },
  {
   "cell_type": "code",
   "execution_count": null,
   "metadata": {},
   "outputs": [],
   "source": []
  },
  {
   "cell_type": "code",
   "execution_count": null,
   "metadata": {},
   "outputs": [],
   "source": []
  },
  {
   "cell_type": "code",
   "execution_count": null,
   "metadata": {},
   "outputs": [],
   "source": []
  },
  {
   "cell_type": "code",
   "execution_count": null,
   "metadata": {},
   "outputs": [],
   "source": []
  },
  {
   "cell_type": "code",
   "execution_count": null,
   "metadata": {},
   "outputs": [],
   "source": []
  },
  {
   "cell_type": "code",
   "execution_count": null,
   "metadata": {},
   "outputs": [],
   "source": []
  },
  {
   "cell_type": "code",
   "execution_count": null,
   "metadata": {},
   "outputs": [],
   "source": []
  },
  {
   "cell_type": "code",
   "execution_count": null,
   "metadata": {},
   "outputs": [],
   "source": []
  },
  {
   "cell_type": "code",
   "execution_count": null,
   "metadata": {},
   "outputs": [],
   "source": []
  },
  {
   "cell_type": "code",
   "execution_count": null,
   "metadata": {},
   "outputs": [],
   "source": []
  },
  {
   "cell_type": "code",
   "execution_count": null,
   "metadata": {},
   "outputs": [],
   "source": []
  },
  {
   "cell_type": "code",
   "execution_count": null,
   "metadata": {},
   "outputs": [],
   "source": []
  },
  {
   "cell_type": "code",
   "execution_count": null,
   "metadata": {},
   "outputs": [],
   "source": []
  }
 ],
 "metadata": {
  "kernelspec": {
   "display_name": "ds_ws_01",
   "language": "python",
   "name": "ds_ws_01"
  },
  "language_info": {
   "codemirror_mode": {
    "name": "ipython",
    "version": 3
   },
   "file_extension": ".py",
   "mimetype": "text/x-python",
   "name": "python",
   "nbconvert_exporter": "python",
   "pygments_lexer": "ipython3",
   "version": "3.11.8"
  }
 },
 "nbformat": 4,
 "nbformat_minor": 4
}
